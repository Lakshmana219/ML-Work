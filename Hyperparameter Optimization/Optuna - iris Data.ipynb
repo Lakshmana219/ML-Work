{
 "cells": [
  {
   "cell_type": "markdown",
   "metadata": {},
   "source": [
    "# Hyperparameter Tuning"
   ]
  },
  {
   "cell_type": "markdown",
   "metadata": {},
   "source": [
    "## In machine learning, a hyperparameter is a parameter whose value is set before the learning process begins.  By contrast, the values of other parameters are derived via training."
   ]
  },
  {
   "cell_type": "code",
   "execution_count": 1,
   "metadata": {},
   "outputs": [
    {
     "name": "stderr",
     "output_type": "stream",
     "text": [
      "C:\\ProgramData\\Anaconda3\\lib\\site-packages\\sklearn\\ensemble\\weight_boosting.py:29: DeprecationWarning: numpy.core.umath_tests is an internal NumPy module and should not be imported. It will be removed in a future NumPy release.\n",
      "  from numpy.core.umath_tests import inner1d\n"
     ]
    }
   ],
   "source": [
    "import sklearn.datasets\n",
    "from sklearn.ensemble import RandomForestClassifier\n",
    "from sklearn.model_selection import cross_val_score, train_test_split"
   ]
  },
  {
   "cell_type": "markdown",
   "metadata": {},
   "source": [
    "## Optuna - Automatic Hyperparameter Optimizer"
   ]
  },
  {
   "cell_type": "code",
   "execution_count": 2,
   "metadata": {},
   "outputs": [],
   "source": [
    "import optuna"
   ]
  },
  {
   "cell_type": "markdown",
   "metadata": {},
   "source": [
    "# RandomForestClassifier"
   ]
  },
  {
   "cell_type": "code",
   "execution_count": 16,
   "metadata": {},
   "outputs": [
    {
     "name": "stdout",
     "output_type": "stream",
     "text": [
      "Accuracy:  0.8964368964368964\n"
     ]
    }
   ],
   "source": [
    "iris = sklearn.datasets.load_iris()\n",
    "\n",
    "x_train, x_test, y_train, y_test = train_test_split(iris.data, iris.target)\n",
    "\n",
    "model = RandomForestClassifier(n_estimators=5, max_depth=3)\n",
    "\n",
    "model.fit(x_train, y_train)\n",
    "\n",
    "Accuracy = cross_val_score(model, x_test, y_test, n_jobs=-1, cv=3).mean()\n",
    "\n",
    "print('Accuracy: ', Accuracy)  "
   ]
  },
  {
   "cell_type": "markdown",
   "metadata": {},
   "source": [
    "# RandomForestClassifier - Optuna"
   ]
  },
  {
   "cell_type": "code",
   "execution_count": 18,
   "metadata": {},
   "outputs": [
    {
     "name": "stderr",
     "output_type": "stream",
     "text": [
      "[I 2020-01-22 06:53:29,443] Finished trial#0 resulted in value: 0.9673202614379085. Current best value is 0.9673202614379085 with parameters: {'n_estimators': 20, 'max_depth': 3.914205323532008}.\n",
      "[I 2020-01-22 06:53:35,595] Finished trial#1 resulted in value: 0.9464869281045751. Current best value is 0.9673202614379085 with parameters: {'n_estimators': 20, 'max_depth': 3.914205323532008}.\n",
      "[I 2020-01-22 06:53:42,165] Finished trial#2 resulted in value: 0.9599673202614379. Current best value is 0.9673202614379085 with parameters: {'n_estimators': 20, 'max_depth': 3.914205323532008}.\n",
      "[I 2020-01-22 06:53:48,680] Finished trial#3 resulted in value: 0.7516339869281046. Current best value is 0.9673202614379085 with parameters: {'n_estimators': 20, 'max_depth': 3.914205323532008}.\n",
      "[I 2020-01-22 06:53:55,216] Finished trial#4 resulted in value: 0.960375816993464. Current best value is 0.9673202614379085 with parameters: {'n_estimators': 20, 'max_depth': 3.914205323532008}.\n",
      "[I 2020-01-22 06:54:01,689] Finished trial#5 resulted in value: 0.8562091503267973. Current best value is 0.9673202614379085 with parameters: {'n_estimators': 20, 'max_depth': 3.914205323532008}.\n",
      "[I 2020-01-22 06:54:08,135] Finished trial#6 resulted in value: 0.9534313725490197. Current best value is 0.9673202614379085 with parameters: {'n_estimators': 20, 'max_depth': 3.914205323532008}.\n",
      "[I 2020-01-22 06:54:15,372] Finished trial#7 resulted in value: 0.7581699346405228. Current best value is 0.9673202614379085 with parameters: {'n_estimators': 20, 'max_depth': 3.914205323532008}.\n",
      "[I 2020-01-22 06:54:22,460] Finished trial#8 resulted in value: 0.9669117647058822. Current best value is 0.9673202614379085 with parameters: {'n_estimators': 20, 'max_depth': 3.914205323532008}.\n",
      "[I 2020-01-22 06:54:29,455] Finished trial#9 resulted in value: 0.9673202614379085. Current best value is 0.9673202614379085 with parameters: {'n_estimators': 20, 'max_depth': 3.914205323532008}.\n",
      "[I 2020-01-22 06:54:35,809] Finished trial#10 resulted in value: 0.960375816993464. Current best value is 0.9673202614379085 with parameters: {'n_estimators': 20, 'max_depth': 3.914205323532008}.\n",
      "[I 2020-01-22 06:54:42,855] Finished trial#11 resulted in value: 0.960375816993464. Current best value is 0.9673202614379085 with parameters: {'n_estimators': 20, 'max_depth': 3.914205323532008}.\n",
      "[I 2020-01-22 06:54:49,544] Finished trial#12 resulted in value: 0.9669117647058822. Current best value is 0.9673202614379085 with parameters: {'n_estimators': 20, 'max_depth': 3.914205323532008}.\n",
      "[I 2020-01-22 06:54:56,032] Finished trial#13 resulted in value: 0.9673202614379085. Current best value is 0.9673202614379085 with parameters: {'n_estimators': 20, 'max_depth': 3.914205323532008}.\n",
      "[I 2020-01-22 06:55:02,528] Finished trial#14 resulted in value: 0.960375816993464. Current best value is 0.9673202614379085 with parameters: {'n_estimators': 20, 'max_depth': 3.914205323532008}.\n",
      "[I 2020-01-22 06:55:09,379] Finished trial#15 resulted in value: 0.960375816993464. Current best value is 0.9673202614379085 with parameters: {'n_estimators': 20, 'max_depth': 3.914205323532008}.\n",
      "[I 2020-01-22 06:55:16,267] Finished trial#16 resulted in value: 0.954248366013072. Current best value is 0.9673202614379085 with parameters: {'n_estimators': 20, 'max_depth': 3.914205323532008}.\n",
      "[I 2020-01-22 06:55:22,950] Finished trial#17 resulted in value: 0.9673202614379085. Current best value is 0.9673202614379085 with parameters: {'n_estimators': 20, 'max_depth': 3.914205323532008}.\n",
      "[I 2020-01-22 06:55:29,453] Finished trial#18 resulted in value: 0.9607843137254902. Current best value is 0.9673202614379085 with parameters: {'n_estimators': 20, 'max_depth': 3.914205323532008}.\n",
      "[I 2020-01-22 06:55:36,069] Finished trial#19 resulted in value: 0.9538398692810457. Current best value is 0.9673202614379085 with parameters: {'n_estimators': 20, 'max_depth': 3.914205323532008}.\n",
      "[I 2020-01-22 06:55:42,388] Finished trial#20 resulted in value: 0.9673202614379085. Current best value is 0.9673202614379085 with parameters: {'n_estimators': 20, 'max_depth': 3.914205323532008}.\n",
      "[I 2020-01-22 06:55:48,845] Finished trial#21 resulted in value: 0.9538398692810457. Current best value is 0.9673202614379085 with parameters: {'n_estimators': 20, 'max_depth': 3.914205323532008}.\n",
      "[I 2020-01-22 06:55:55,471] Finished trial#22 resulted in value: 0.9538398692810457. Current best value is 0.9673202614379085 with parameters: {'n_estimators': 20, 'max_depth': 3.914205323532008}.\n",
      "[I 2020-01-22 06:56:02,153] Finished trial#23 resulted in value: 0.9669117647058822. Current best value is 0.9673202614379085 with parameters: {'n_estimators': 20, 'max_depth': 3.914205323532008}.\n",
      "[I 2020-01-22 06:56:08,644] Finished trial#24 resulted in value: 0.9468954248366014. Current best value is 0.9673202614379085 with parameters: {'n_estimators': 20, 'max_depth': 3.914205323532008}.\n",
      "[I 2020-01-22 06:56:15,240] Finished trial#25 resulted in value: 0.9534313725490197. Current best value is 0.9673202614379085 with parameters: {'n_estimators': 20, 'max_depth': 3.914205323532008}.\n",
      "[I 2020-01-22 06:56:21,953] Finished trial#26 resulted in value: 0.960375816993464. Current best value is 0.9673202614379085 with parameters: {'n_estimators': 20, 'max_depth': 3.914205323532008}.\n",
      "[I 2020-01-22 06:56:29,057] Finished trial#27 resulted in value: 0.9738562091503268. Current best value is 0.9738562091503268 with parameters: {'n_estimators': 15, 'max_depth': 5.908638057207142}.\n",
      "[I 2020-01-22 06:56:36,465] Finished trial#28 resulted in value: 0.9607843137254902. Current best value is 0.9738562091503268 with parameters: {'n_estimators': 15, 'max_depth': 5.908638057207142}.\n",
      "[I 2020-01-22 06:56:43,747] Finished trial#29 resulted in value: 0.9673202614379085. Current best value is 0.9738562091503268 with parameters: {'n_estimators': 15, 'max_depth': 5.908638057207142}.\n",
      "[I 2020-01-22 06:56:50,642] Finished trial#30 resulted in value: 0.9538398692810457. Current best value is 0.9738562091503268 with parameters: {'n_estimators': 15, 'max_depth': 5.908638057207142}.\n",
      "[I 2020-01-22 06:56:56,850] Finished trial#31 resulted in value: 0.9538398692810457. Current best value is 0.9738562091503268 with parameters: {'n_estimators': 15, 'max_depth': 5.908638057207142}.\n",
      "[I 2020-01-22 06:57:03,072] Finished trial#32 resulted in value: 0.9538398692810457. Current best value is 0.9738562091503268 with parameters: {'n_estimators': 15, 'max_depth': 5.908638057207142}.\n",
      "[I 2020-01-22 06:57:09,855] Finished trial#33 resulted in value: 0.9607843137254902. Current best value is 0.9738562091503268 with parameters: {'n_estimators': 15, 'max_depth': 5.908638057207142}.\n",
      "[I 2020-01-22 06:57:16,546] Finished trial#34 resulted in value: 0.9673202614379085. Current best value is 0.9738562091503268 with parameters: {'n_estimators': 15, 'max_depth': 5.908638057207142}.\n",
      "[I 2020-01-22 06:57:23,047] Finished trial#35 resulted in value: 0.9538398692810457. Current best value is 0.9738562091503268 with parameters: {'n_estimators': 15, 'max_depth': 5.908638057207142}.\n",
      "[I 2020-01-22 06:57:30,104] Finished trial#36 resulted in value: 0.960375816993464. Current best value is 0.9738562091503268 with parameters: {'n_estimators': 15, 'max_depth': 5.908638057207142}.\n",
      "[I 2020-01-22 06:57:37,457] Finished trial#37 resulted in value: 0.9669117647058822. Current best value is 0.9738562091503268 with parameters: {'n_estimators': 15, 'max_depth': 5.908638057207142}.\n",
      "[I 2020-01-22 06:57:44,013] Finished trial#38 resulted in value: 0.960375816993464. Current best value is 0.9738562091503268 with parameters: {'n_estimators': 15, 'max_depth': 5.908638057207142}.\n",
      "[I 2020-01-22 06:57:50,371] Finished trial#39 resulted in value: 0.9673202614379085. Current best value is 0.9738562091503268 with parameters: {'n_estimators': 15, 'max_depth': 5.908638057207142}.\n",
      "[I 2020-01-22 06:57:57,320] Finished trial#40 resulted in value: 0.9669117647058822. Current best value is 0.9738562091503268 with parameters: {'n_estimators': 15, 'max_depth': 5.908638057207142}.\n"
     ]
    },
    {
     "name": "stderr",
     "output_type": "stream",
     "text": [
      "[I 2020-01-22 06:58:05,197] Finished trial#41 resulted in value: 0.960375816993464. Current best value is 0.9738562091503268 with parameters: {'n_estimators': 15, 'max_depth': 5.908638057207142}.\n",
      "[I 2020-01-22 06:58:12,999] Finished trial#42 resulted in value: 0.9673202614379085. Current best value is 0.9738562091503268 with parameters: {'n_estimators': 15, 'max_depth': 5.908638057207142}.\n",
      "[I 2020-01-22 06:58:21,272] Finished trial#43 resulted in value: 0.8778594771241831. Current best value is 0.9738562091503268 with parameters: {'n_estimators': 15, 'max_depth': 5.908638057207142}.\n",
      "[I 2020-01-22 06:58:31,200] Finished trial#44 resulted in value: 0.9473039215686274. Current best value is 0.9738562091503268 with parameters: {'n_estimators': 15, 'max_depth': 5.908638057207142}.\n",
      "[I 2020-01-22 06:58:38,690] Finished trial#45 resulted in value: 0.960375816993464. Current best value is 0.9738562091503268 with parameters: {'n_estimators': 15, 'max_depth': 5.908638057207142}.\n",
      "[I 2020-01-22 06:58:45,138] Finished trial#46 resulted in value: 0.960375816993464. Current best value is 0.9738562091503268 with parameters: {'n_estimators': 15, 'max_depth': 5.908638057207142}.\n",
      "[I 2020-01-22 06:58:52,218] Finished trial#47 resulted in value: 0.9473039215686274. Current best value is 0.9738562091503268 with parameters: {'n_estimators': 15, 'max_depth': 5.908638057207142}.\n",
      "[I 2020-01-22 06:58:59,165] Finished trial#48 resulted in value: 0.8406862745098039. Current best value is 0.9738562091503268 with parameters: {'n_estimators': 15, 'max_depth': 5.908638057207142}.\n",
      "[I 2020-01-22 06:59:05,889] Finished trial#49 resulted in value: 0.9607843137254902. Current best value is 0.9738562091503268 with parameters: {'n_estimators': 15, 'max_depth': 5.908638057207142}.\n",
      "[I 2020-01-22 06:59:13,051] Finished trial#50 resulted in value: 0.960375816993464. Current best value is 0.9738562091503268 with parameters: {'n_estimators': 15, 'max_depth': 5.908638057207142}.\n",
      "[I 2020-01-22 06:59:19,946] Finished trial#51 resulted in value: 0.9673202614379085. Current best value is 0.9738562091503268 with parameters: {'n_estimators': 15, 'max_depth': 5.908638057207142}.\n",
      "[I 2020-01-22 06:59:26,558] Finished trial#52 resulted in value: 0.7949346405228758. Current best value is 0.9738562091503268 with parameters: {'n_estimators': 15, 'max_depth': 5.908638057207142}.\n",
      "[I 2020-01-22 06:59:33,331] Finished trial#53 resulted in value: 0.9534313725490197. Current best value is 0.9738562091503268 with parameters: {'n_estimators': 15, 'max_depth': 5.908638057207142}.\n",
      "[I 2020-01-22 06:59:40,093] Finished trial#54 resulted in value: 0.9669117647058822. Current best value is 0.9738562091503268 with parameters: {'n_estimators': 15, 'max_depth': 5.908638057207142}.\n",
      "[I 2020-01-22 06:59:46,745] Finished trial#55 resulted in value: 0.9738562091503268. Current best value is 0.9738562091503268 with parameters: {'n_estimators': 15, 'max_depth': 5.908638057207142}.\n",
      "[I 2020-01-22 06:59:53,509] Finished trial#56 resulted in value: 0.9464869281045751. Current best value is 0.9738562091503268 with parameters: {'n_estimators': 15, 'max_depth': 5.908638057207142}.\n",
      "[I 2020-01-22 06:59:59,775] Finished trial#57 resulted in value: 0.9738562091503268. Current best value is 0.9738562091503268 with parameters: {'n_estimators': 15, 'max_depth': 5.908638057207142}.\n",
      "[I 2020-01-22 07:00:06,571] Finished trial#58 resulted in value: 0.9669117647058822. Current best value is 0.9738562091503268 with parameters: {'n_estimators': 15, 'max_depth': 5.908638057207142}.\n",
      "[I 2020-01-22 07:00:12,918] Finished trial#59 resulted in value: 0.9534313725490197. Current best value is 0.9738562091503268 with parameters: {'n_estimators': 15, 'max_depth': 5.908638057207142}.\n",
      "[I 2020-01-22 07:00:19,710] Finished trial#60 resulted in value: 0.9673202614379085. Current best value is 0.9738562091503268 with parameters: {'n_estimators': 15, 'max_depth': 5.908638057207142}.\n",
      "[I 2020-01-22 07:00:26,907] Finished trial#61 resulted in value: 0.9468954248366014. Current best value is 0.9738562091503268 with parameters: {'n_estimators': 15, 'max_depth': 5.908638057207142}.\n",
      "[I 2020-01-22 07:00:33,684] Finished trial#62 resulted in value: 0.9669117647058822. Current best value is 0.9738562091503268 with parameters: {'n_estimators': 15, 'max_depth': 5.908638057207142}.\n",
      "[I 2020-01-22 07:00:40,151] Finished trial#63 resulted in value: 0.960375816993464. Current best value is 0.9738562091503268 with parameters: {'n_estimators': 15, 'max_depth': 5.908638057207142}.\n",
      "[I 2020-01-22 07:00:47,640] Finished trial#64 resulted in value: 0.9607843137254902. Current best value is 0.9738562091503268 with parameters: {'n_estimators': 15, 'max_depth': 5.908638057207142}.\n",
      "[I 2020-01-22 07:00:54,798] Finished trial#65 resulted in value: 0.960375816993464. Current best value is 0.9738562091503268 with parameters: {'n_estimators': 15, 'max_depth': 5.908638057207142}.\n",
      "[I 2020-01-22 07:01:01,758] Finished trial#66 resulted in value: 0.9669117647058822. Current best value is 0.9738562091503268 with parameters: {'n_estimators': 15, 'max_depth': 5.908638057207142}.\n",
      "[I 2020-01-22 07:01:08,255] Finished trial#67 resulted in value: 0.9607843137254902. Current best value is 0.9738562091503268 with parameters: {'n_estimators': 15, 'max_depth': 5.908638057207142}.\n",
      "[I 2020-01-22 07:01:15,150] Finished trial#68 resulted in value: 0.9468954248366014. Current best value is 0.9738562091503268 with parameters: {'n_estimators': 15, 'max_depth': 5.908638057207142}.\n",
      "[I 2020-01-22 07:01:21,449] Finished trial#69 resulted in value: 0.9534313725490197. Current best value is 0.9738562091503268 with parameters: {'n_estimators': 15, 'max_depth': 5.908638057207142}.\n",
      "[I 2020-01-22 07:01:27,702] Finished trial#70 resulted in value: 0.960375816993464. Current best value is 0.9738562091503268 with parameters: {'n_estimators': 15, 'max_depth': 5.908638057207142}.\n",
      "[I 2020-01-22 07:01:34,173] Finished trial#71 resulted in value: 0.9607843137254902. Current best value is 0.9738562091503268 with parameters: {'n_estimators': 15, 'max_depth': 5.908638057207142}.\n",
      "[I 2020-01-22 07:01:40,384] Finished trial#72 resulted in value: 0.9738562091503268. Current best value is 0.9738562091503268 with parameters: {'n_estimators': 15, 'max_depth': 5.908638057207142}.\n",
      "[I 2020-01-22 07:01:46,595] Finished trial#73 resulted in value: 0.960375816993464. Current best value is 0.9738562091503268 with parameters: {'n_estimators': 15, 'max_depth': 5.908638057207142}.\n",
      "[I 2020-01-22 07:01:53,005] Finished trial#74 resulted in value: 0.9607843137254902. Current best value is 0.9738562091503268 with parameters: {'n_estimators': 15, 'max_depth': 5.908638057207142}.\n",
      "[I 2020-01-22 07:01:59,280] Finished trial#75 resulted in value: 0.9669117647058822. Current best value is 0.9738562091503268 with parameters: {'n_estimators': 15, 'max_depth': 5.908638057207142}.\n",
      "[I 2020-01-22 07:02:05,598] Finished trial#76 resulted in value: 0.960375816993464. Current best value is 0.9738562091503268 with parameters: {'n_estimators': 15, 'max_depth': 5.908638057207142}.\n",
      "[I 2020-01-22 07:02:11,612] Finished trial#77 resulted in value: 0.9203431372549019. Current best value is 0.9738562091503268 with parameters: {'n_estimators': 15, 'max_depth': 5.908638057207142}.\n",
      "[I 2020-01-22 07:02:18,754] Finished trial#78 resulted in value: 0.9673202614379085. Current best value is 0.9738562091503268 with parameters: {'n_estimators': 15, 'max_depth': 5.908638057207142}.\n",
      "[I 2020-01-22 07:02:25,764] Finished trial#79 resulted in value: 0.960375816993464. Current best value is 0.9738562091503268 with parameters: {'n_estimators': 15, 'max_depth': 5.908638057207142}.\n",
      "[I 2020-01-22 07:02:34,241] Finished trial#80 resulted in value: 0.960375816993464. Current best value is 0.9738562091503268 with parameters: {'n_estimators': 15, 'max_depth': 5.908638057207142}.\n",
      "[I 2020-01-22 07:02:41,923] Finished trial#81 resulted in value: 0.9673202614379085. Current best value is 0.9738562091503268 with parameters: {'n_estimators': 15, 'max_depth': 5.908638057207142}.\n"
     ]
    },
    {
     "name": "stderr",
     "output_type": "stream",
     "text": [
      "[I 2020-01-22 07:02:48,637] Finished trial#82 resulted in value: 0.9538398692810457. Current best value is 0.9738562091503268 with parameters: {'n_estimators': 15, 'max_depth': 5.908638057207142}.\n",
      "[I 2020-01-22 07:02:55,390] Finished trial#83 resulted in value: 0.954248366013072. Current best value is 0.9738562091503268 with parameters: {'n_estimators': 15, 'max_depth': 5.908638057207142}.\n",
      "[I 2020-01-22 07:03:03,180] Finished trial#84 resulted in value: 0.9738562091503268. Current best value is 0.9738562091503268 with parameters: {'n_estimators': 15, 'max_depth': 5.908638057207142}.\n",
      "[I 2020-01-22 07:03:11,368] Finished trial#85 resulted in value: 0.960375816993464. Current best value is 0.9738562091503268 with parameters: {'n_estimators': 15, 'max_depth': 5.908638057207142}.\n",
      "[I 2020-01-22 07:03:18,517] Finished trial#86 resulted in value: 0.9673202614379085. Current best value is 0.9738562091503268 with parameters: {'n_estimators': 15, 'max_depth': 5.908638057207142}.\n",
      "[I 2020-01-22 07:03:25,818] Finished trial#87 resulted in value: 0.960375816993464. Current best value is 0.9738562091503268 with parameters: {'n_estimators': 15, 'max_depth': 5.908638057207142}.\n",
      "[I 2020-01-22 07:03:32,834] Finished trial#88 resulted in value: 0.9607843137254902. Current best value is 0.9738562091503268 with parameters: {'n_estimators': 15, 'max_depth': 5.908638057207142}.\n",
      "[I 2020-01-22 07:03:40,475] Finished trial#89 resulted in value: 0.9538398692810457. Current best value is 0.9738562091503268 with parameters: {'n_estimators': 15, 'max_depth': 5.908638057207142}.\n",
      "[I 2020-01-22 07:03:47,617] Finished trial#90 resulted in value: 0.9669117647058822. Current best value is 0.9738562091503268 with parameters: {'n_estimators': 15, 'max_depth': 5.908638057207142}.\n",
      "[I 2020-01-22 07:03:55,185] Finished trial#91 resulted in value: 0.954248366013072. Current best value is 0.9738562091503268 with parameters: {'n_estimators': 15, 'max_depth': 5.908638057207142}.\n",
      "[I 2020-01-22 07:04:02,233] Finished trial#92 resulted in value: 0.9669117647058822. Current best value is 0.9738562091503268 with parameters: {'n_estimators': 15, 'max_depth': 5.908638057207142}.\n",
      "[I 2020-01-22 07:04:09,099] Finished trial#93 resulted in value: 0.960375816993464. Current best value is 0.9738562091503268 with parameters: {'n_estimators': 15, 'max_depth': 5.908638057207142}.\n",
      "[I 2020-01-22 07:04:15,782] Finished trial#94 resulted in value: 0.960375816993464. Current best value is 0.9738562091503268 with parameters: {'n_estimators': 15, 'max_depth': 5.908638057207142}.\n",
      "[I 2020-01-22 07:04:22,477] Finished trial#95 resulted in value: 0.954248366013072. Current best value is 0.9738562091503268 with parameters: {'n_estimators': 15, 'max_depth': 5.908638057207142}.\n",
      "[I 2020-01-22 07:04:29,077] Finished trial#96 resulted in value: 0.9534313725490197. Current best value is 0.9738562091503268 with parameters: {'n_estimators': 15, 'max_depth': 5.908638057207142}.\n",
      "[I 2020-01-22 07:04:35,512] Finished trial#97 resulted in value: 0.9607843137254902. Current best value is 0.9738562091503268 with parameters: {'n_estimators': 15, 'max_depth': 5.908638057207142}.\n",
      "[I 2020-01-22 07:04:42,282] Finished trial#98 resulted in value: 0.960375816993464. Current best value is 0.9738562091503268 with parameters: {'n_estimators': 15, 'max_depth': 5.908638057207142}.\n",
      "[I 2020-01-22 07:04:49,423] Finished trial#99 resulted in value: 0.960375816993464. Current best value is 0.9738562091503268 with parameters: {'n_estimators': 15, 'max_depth': 5.908638057207142}.\n"
     ]
    },
    {
     "name": "stdout",
     "output_type": "stream",
     "text": [
      "Accuracy: 0.9738562091503268\n",
      "Best Hyperparameters: {'n_estimators': 15, 'max_depth': 5.908638057207142}\n"
     ]
    }
   ],
   "source": [
    "def objective(trial):\n",
    "    iris =  sklearn.datasets.load_iris()\n",
    "    \n",
    "    #x_train, x_test, y_train, y_test = train_test_split(iris.data, iris.target)\n",
    "    \n",
    "    n_estimators = trial.suggest_int('n_estimators', 2, 20)\n",
    "    max_depth = int(trial.suggest_loguniform('max_depth', 1, 32))\n",
    "    \n",
    "    model = RandomForestClassifier(n_estimators=n_estimators, max_depth=max_depth)\n",
    "    \n",
    "    #model.fit(x_train, y_test)\n",
    "    \n",
    "    return cross_val_score(model, iris.data, iris.target, n_jobs=-1, cv=3).mean()\n",
    "\n",
    "study = optuna.create_study(direction='maximize')\n",
    "study.optimize(objective, n_trials=100)\n",
    "\n",
    "trial = study.best_trial\n",
    "\n",
    "print('Accuracy: {}'.format(trial.value))\n",
    "print('Best Hyperparameters: {}'.format(trial.params))"
   ]
  },
  {
   "cell_type": "markdown",
   "metadata": {},
   "source": [
    "# Applying Optuna over RandomForest, SVC"
   ]
  },
  {
   "cell_type": "code",
   "execution_count": 20,
   "metadata": {},
   "outputs": [
    {
     "name": "stderr",
     "output_type": "stream",
     "text": [
      "[I 2020-01-22 08:33:02,062] Finished trial#0 resulted in value: 0.9673202614379085. Current best value is 0.9673202614379085 with parameters: {'classifier': 'RandomForest', 'n_estimators': 5, 'max_depth': 7.203349677542514}.\n",
      "[I 2020-01-22 08:33:08,497] Finished trial#1 resulted in value: 0.9399509803921569. Current best value is 0.9673202614379085 with parameters: {'classifier': 'RandomForest', 'n_estimators': 5, 'max_depth': 7.203349677542514}.\n",
      "[I 2020-01-22 08:33:14,773] Finished trial#2 resulted in value: 0.8366013071895425. Current best value is 0.9673202614379085 with parameters: {'classifier': 'RandomForest', 'n_estimators': 5, 'max_depth': 7.203349677542514}.\n",
      "[I 2020-01-22 08:33:21,187] Finished trial#3 resulted in value: 0.960375816993464. Current best value is 0.9673202614379085 with parameters: {'classifier': 'RandomForest', 'n_estimators': 5, 'max_depth': 7.203349677542514}.\n",
      "[I 2020-01-22 08:33:29,453] Finished trial#4 resulted in value: 0.9538398692810457. Current best value is 0.9673202614379085 with parameters: {'classifier': 'RandomForest', 'n_estimators': 5, 'max_depth': 7.203349677542514}.\n",
      "[I 2020-01-22 08:33:36,092] Finished trial#5 resulted in value: 0.9538398692810457. Current best value is 0.9673202614379085 with parameters: {'classifier': 'RandomForest', 'n_estimators': 5, 'max_depth': 7.203349677542514}.\n",
      "[I 2020-01-22 08:33:44,314] Finished trial#6 resulted in value: 0.8627450980392156. Current best value is 0.9673202614379085 with parameters: {'classifier': 'RandomForest', 'n_estimators': 5, 'max_depth': 7.203349677542514}.\n",
      "[I 2020-01-22 08:33:53,388] Finished trial#7 resulted in value: 0.9399509803921569. Current best value is 0.9673202614379085 with parameters: {'classifier': 'RandomForest', 'n_estimators': 5, 'max_depth': 7.203349677542514}.\n",
      "[I 2020-01-22 08:34:00,910] Finished trial#8 resulted in value: 0.9399509803921569. Current best value is 0.9673202614379085 with parameters: {'classifier': 'RandomForest', 'n_estimators': 5, 'max_depth': 7.203349677542514}.\n",
      "[I 2020-01-22 08:34:07,335] Finished trial#9 resulted in value: 0.9599673202614379. Current best value is 0.9673202614379085 with parameters: {'classifier': 'RandomForest', 'n_estimators': 5, 'max_depth': 7.203349677542514}.\n",
      "[I 2020-01-22 08:34:13,752] Finished trial#10 resulted in value: 0.9473039215686274. Current best value is 0.9673202614379085 with parameters: {'classifier': 'RandomForest', 'n_estimators': 5, 'max_depth': 7.203349677542514}.\n",
      "[I 2020-01-22 08:34:19,970] Finished trial#11 resulted in value: 0.9468954248366014. Current best value is 0.9673202614379085 with parameters: {'classifier': 'RandomForest', 'n_estimators': 5, 'max_depth': 7.203349677542514}.\n",
      "[I 2020-01-22 08:34:26,394] Finished trial#12 resulted in value: 0.9673202614379085. Current best value is 0.9673202614379085 with parameters: {'classifier': 'RandomForest', 'n_estimators': 5, 'max_depth': 7.203349677542514}.\n",
      "[I 2020-01-22 08:34:32,795] Finished trial#13 resulted in value: 0.9334150326797386. Current best value is 0.9673202614379085 with parameters: {'classifier': 'RandomForest', 'n_estimators': 5, 'max_depth': 7.203349677542514}.\n",
      "[I 2020-01-22 08:34:39,752] Finished trial#14 resulted in value: 0.960375816993464. Current best value is 0.9673202614379085 with parameters: {'classifier': 'RandomForest', 'n_estimators': 5, 'max_depth': 7.203349677542514}.\n",
      "[I 2020-01-22 08:34:46,657] Finished trial#15 resulted in value: 0.9538398692810457. Current best value is 0.9673202614379085 with parameters: {'classifier': 'RandomForest', 'n_estimators': 5, 'max_depth': 7.203349677542514}.\n",
      "[I 2020-01-22 08:34:53,241] Finished trial#16 resulted in value: 0.9473039215686274. Current best value is 0.9673202614379085 with parameters: {'classifier': 'RandomForest', 'n_estimators': 5, 'max_depth': 7.203349677542514}.\n",
      "[I 2020-01-22 08:35:00,988] Finished trial#17 resulted in value: 0.9342320261437909. Current best value is 0.9673202614379085 with parameters: {'classifier': 'RandomForest', 'n_estimators': 5, 'max_depth': 7.203349677542514}.\n",
      "[I 2020-01-22 08:35:09,532] Finished trial#18 resulted in value: 0.9534313725490197. Current best value is 0.9673202614379085 with parameters: {'classifier': 'RandomForest', 'n_estimators': 5, 'max_depth': 7.203349677542514}.\n",
      "[I 2020-01-22 08:35:16,406] Finished trial#19 resulted in value: 0.9673202614379085. Current best value is 0.9673202614379085 with parameters: {'classifier': 'RandomForest', 'n_estimators': 5, 'max_depth': 7.203349677542514}.\n",
      "[I 2020-01-22 08:35:22,761] Finished trial#20 resulted in value: 0.7254901960784313. Current best value is 0.9673202614379085 with parameters: {'classifier': 'RandomForest', 'n_estimators': 5, 'max_depth': 7.203349677542514}.\n",
      "[I 2020-01-22 08:35:29,029] Finished trial#21 resulted in value: 0.9738562091503268. Current best value is 0.9738562091503268 with parameters: {'classifier': 'RandomForest', 'n_estimators': 9, 'max_depth': 28.731884609871777}.\n",
      "[I 2020-01-22 08:35:35,616] Finished trial#22 resulted in value: 0.9538398692810457. Current best value is 0.9738562091503268 with parameters: {'classifier': 'RandomForest', 'n_estimators': 9, 'max_depth': 28.731884609871777}.\n",
      "[I 2020-01-22 08:35:43,543] Finished trial#23 resulted in value: 0.9538398692810457. Current best value is 0.9738562091503268 with parameters: {'classifier': 'RandomForest', 'n_estimators': 9, 'max_depth': 28.731884609871777}.\n",
      "[I 2020-01-22 08:35:51,614] Finished trial#24 resulted in value: 0.9538398692810457. Current best value is 0.9738562091503268 with parameters: {'classifier': 'RandomForest', 'n_estimators': 9, 'max_depth': 28.731884609871777}.\n",
      "[I 2020-01-22 08:35:57,862] Finished trial#25 resulted in value: 0.9468954248366014. Current best value is 0.9738562091503268 with parameters: {'classifier': 'RandomForest', 'n_estimators': 9, 'max_depth': 28.731884609871777}.\n",
      "[I 2020-01-22 08:36:04,187] Finished trial#26 resulted in value: 0.9534313725490197. Current best value is 0.9738562091503268 with parameters: {'classifier': 'RandomForest', 'n_estimators': 9, 'max_depth': 28.731884609871777}.\n",
      "[I 2020-01-22 08:36:10,636] Finished trial#27 resulted in value: 0.9734477124183006. Current best value is 0.9738562091503268 with parameters: {'classifier': 'RandomForest', 'n_estimators': 9, 'max_depth': 28.731884609871777}.\n",
      "[I 2020-01-22 08:36:17,181] Finished trial#28 resulted in value: 0.9399509803921569. Current best value is 0.9738562091503268 with parameters: {'classifier': 'RandomForest', 'n_estimators': 9, 'max_depth': 28.731884609871777}.\n",
      "[I 2020-01-22 08:36:23,642] Finished trial#29 resulted in value: 0.9673202614379085. Current best value is 0.9738562091503268 with parameters: {'classifier': 'RandomForest', 'n_estimators': 9, 'max_depth': 28.731884609871777}.\n",
      "[I 2020-01-22 08:36:30,290] Finished trial#30 resulted in value: 0.9342320261437909. Current best value is 0.9738562091503268 with parameters: {'classifier': 'RandomForest', 'n_estimators': 9, 'max_depth': 28.731884609871777}.\n",
      "[I 2020-01-22 08:36:36,722] Finished trial#31 resulted in value: 0.9342320261437909. Current best value is 0.9738562091503268 with parameters: {'classifier': 'RandomForest', 'n_estimators': 9, 'max_depth': 28.731884609871777}.\n",
      "[I 2020-01-22 08:36:43,538] Finished trial#32 resulted in value: 0.9399509803921569. Current best value is 0.9738562091503268 with parameters: {'classifier': 'RandomForest', 'n_estimators': 9, 'max_depth': 28.731884609871777}.\n",
      "[I 2020-01-22 08:36:49,849] Finished trial#33 resulted in value: 0.9342320261437909. Current best value is 0.9738562091503268 with parameters: {'classifier': 'RandomForest', 'n_estimators': 9, 'max_depth': 28.731884609871777}.\n",
      "[I 2020-01-22 08:36:56,416] Finished trial#34 resulted in value: 0.9799836601307189. Current best value is 0.9799836601307189 with parameters: {'classifier': 'SVC', 'svc_c': 3.37339095276415}.\n",
      "[I 2020-01-22 08:37:02,847] Finished trial#35 resulted in value: 0.9669117647058824. Current best value is 0.9799836601307189 with parameters: {'classifier': 'SVC', 'svc_c': 3.37339095276415}.\n"
     ]
    },
    {
     "name": "stderr",
     "output_type": "stream",
     "text": [
      "[I 2020-01-22 08:37:09,438] Finished trial#36 resulted in value: 0.9865196078431372. Current best value is 0.9865196078431372 with parameters: {'classifier': 'SVC', 'svc_c': 1.887947872892547}.\n",
      "[I 2020-01-22 08:37:16,054] Finished trial#37 resulted in value: 0.9342320261437909. Current best value is 0.9865196078431372 with parameters: {'classifier': 'SVC', 'svc_c': 1.887947872892547}.\n",
      "[I 2020-01-22 08:37:22,419] Finished trial#38 resulted in value: 0.9538398692810457. Current best value is 0.9865196078431372 with parameters: {'classifier': 'SVC', 'svc_c': 1.887947872892547}.\n",
      "[I 2020-01-22 08:37:28,929] Finished trial#39 resulted in value: 0.9342320261437909. Current best value is 0.9865196078431372 with parameters: {'classifier': 'SVC', 'svc_c': 1.887947872892547}.\n",
      "[I 2020-01-22 08:37:35,645] Finished trial#40 resulted in value: 0.9342320261437909. Current best value is 0.9865196078431372 with parameters: {'classifier': 'SVC', 'svc_c': 1.887947872892547}.\n",
      "[I 2020-01-22 08:37:42,441] Finished trial#41 resulted in value: 0.9738562091503268. Current best value is 0.9865196078431372 with parameters: {'classifier': 'SVC', 'svc_c': 1.887947872892547}.\n",
      "[I 2020-01-22 08:37:48,921] Finished trial#42 resulted in value: 0.9399509803921569. Current best value is 0.9865196078431372 with parameters: {'classifier': 'SVC', 'svc_c': 1.887947872892547}.\n",
      "[I 2020-01-22 08:37:55,402] Finished trial#43 resulted in value: 0.9407679738562091. Current best value is 0.9865196078431372 with parameters: {'classifier': 'SVC', 'svc_c': 1.887947872892547}.\n",
      "[I 2020-01-22 08:38:02,350] Finished trial#44 resulted in value: 0.9673202614379085. Current best value is 0.9865196078431372 with parameters: {'classifier': 'SVC', 'svc_c': 1.887947872892547}.\n",
      "[I 2020-01-22 08:38:10,283] Finished trial#45 resulted in value: 0.9607843137254902. Current best value is 0.9865196078431372 with parameters: {'classifier': 'SVC', 'svc_c': 1.887947872892547}.\n",
      "[I 2020-01-22 08:38:19,318] Finished trial#46 resulted in value: 0.9803921568627452. Current best value is 0.9865196078431372 with parameters: {'classifier': 'SVC', 'svc_c': 1.887947872892547}.\n",
      "[I 2020-01-22 08:38:26,446] Finished trial#47 resulted in value: 0.9399509803921569. Current best value is 0.9865196078431372 with parameters: {'classifier': 'SVC', 'svc_c': 1.887947872892547}.\n",
      "[I 2020-01-22 08:38:34,121] Finished trial#48 resulted in value: 0.9342320261437909. Current best value is 0.9865196078431372 with parameters: {'classifier': 'SVC', 'svc_c': 1.887947872892547}.\n",
      "[I 2020-01-22 08:38:41,597] Finished trial#49 resulted in value: 0.9799836601307189. Current best value is 0.9865196078431372 with parameters: {'classifier': 'SVC', 'svc_c': 1.887947872892547}.\n",
      "[I 2020-01-22 08:38:50,786] Finished trial#50 resulted in value: 0.9399509803921569. Current best value is 0.9865196078431372 with parameters: {'classifier': 'SVC', 'svc_c': 1.887947872892547}.\n",
      "[I 2020-01-22 08:38:58,395] Finished trial#51 resulted in value: 0.9399509803921569. Current best value is 0.9865196078431372 with parameters: {'classifier': 'SVC', 'svc_c': 1.887947872892547}.\n",
      "[I 2020-01-22 08:39:05,495] Finished trial#52 resulted in value: 0.9342320261437909. Current best value is 0.9865196078431372 with parameters: {'classifier': 'SVC', 'svc_c': 1.887947872892547}.\n",
      "[I 2020-01-22 08:39:12,382] Finished trial#53 resulted in value: 0.9342320261437909. Current best value is 0.9865196078431372 with parameters: {'classifier': 'SVC', 'svc_c': 1.887947872892547}.\n",
      "[I 2020-01-22 08:39:19,156] Finished trial#54 resulted in value: 0.9865196078431372. Current best value is 0.9865196078431372 with parameters: {'classifier': 'SVC', 'svc_c': 1.887947872892547}.\n",
      "[I 2020-01-22 08:39:25,698] Finished trial#55 resulted in value: 0.9734477124183006. Current best value is 0.9865196078431372 with parameters: {'classifier': 'SVC', 'svc_c': 1.887947872892547}.\n",
      "[I 2020-01-22 08:39:34,618] Finished trial#56 resulted in value: 0.9538398692810457. Current best value is 0.9865196078431372 with parameters: {'classifier': 'SVC', 'svc_c': 1.887947872892547}.\n",
      "[I 2020-01-22 08:39:42,328] Finished trial#57 resulted in value: 0.9342320261437909. Current best value is 0.9865196078431372 with parameters: {'classifier': 'SVC', 'svc_c': 1.887947872892547}.\n",
      "[I 2020-01-22 08:39:49,375] Finished trial#58 resulted in value: 0.9803921568627452. Current best value is 0.9865196078431372 with parameters: {'classifier': 'SVC', 'svc_c': 1.887947872892547}.\n",
      "[I 2020-01-22 08:39:56,292] Finished trial#59 resulted in value: 0.9342320261437909. Current best value is 0.9865196078431372 with parameters: {'classifier': 'SVC', 'svc_c': 1.887947872892547}.\n",
      "[I 2020-01-22 08:40:03,149] Finished trial#60 resulted in value: 0.9669117647058824. Current best value is 0.9865196078431372 with parameters: {'classifier': 'SVC', 'svc_c': 1.887947872892547}.\n",
      "[I 2020-01-22 08:40:10,575] Finished trial#61 resulted in value: 0.9399509803921569. Current best value is 0.9865196078431372 with parameters: {'classifier': 'SVC', 'svc_c': 1.887947872892547}.\n",
      "[I 2020-01-22 08:40:18,450] Finished trial#62 resulted in value: 0.9399509803921569. Current best value is 0.9865196078431372 with parameters: {'classifier': 'SVC', 'svc_c': 1.887947872892547}.\n",
      "[I 2020-01-22 08:40:25,991] Finished trial#63 resulted in value: 0.9607843137254902. Current best value is 0.9865196078431372 with parameters: {'classifier': 'SVC', 'svc_c': 1.887947872892547}.\n",
      "[I 2020-01-22 08:40:34,635] Finished trial#64 resulted in value: 0.9799836601307189. Current best value is 0.9865196078431372 with parameters: {'classifier': 'SVC', 'svc_c': 1.887947872892547}.\n",
      "[I 2020-01-22 08:40:41,620] Finished trial#65 resulted in value: 0.9803921568627452. Current best value is 0.9865196078431372 with parameters: {'classifier': 'SVC', 'svc_c': 1.887947872892547}.\n",
      "[I 2020-01-22 08:40:48,425] Finished trial#66 resulted in value: 0.9738562091503268. Current best value is 0.9865196078431372 with parameters: {'classifier': 'SVC', 'svc_c': 1.887947872892547}.\n",
      "[I 2020-01-22 08:40:55,463] Finished trial#67 resulted in value: 0.9407679738562091. Current best value is 0.9865196078431372 with parameters: {'classifier': 'SVC', 'svc_c': 1.887947872892547}.\n",
      "[I 2020-01-22 08:41:02,050] Finished trial#68 resulted in value: 0.960375816993464. Current best value is 0.9865196078431372 with parameters: {'classifier': 'SVC', 'svc_c': 1.887947872892547}.\n",
      "[I 2020-01-22 08:41:08,825] Finished trial#69 resulted in value: 0.9734477124183006. Current best value is 0.9865196078431372 with parameters: {'classifier': 'SVC', 'svc_c': 1.887947872892547}.\n",
      "[I 2020-01-22 08:41:15,315] Finished trial#70 resulted in value: 0.9342320261437909. Current best value is 0.9865196078431372 with parameters: {'classifier': 'SVC', 'svc_c': 1.887947872892547}.\n",
      "[I 2020-01-22 08:41:21,900] Finished trial#71 resulted in value: 0.9399509803921569. Current best value is 0.9865196078431372 with parameters: {'classifier': 'SVC', 'svc_c': 1.887947872892547}.\n",
      "[I 2020-01-22 08:41:28,524] Finished trial#72 resulted in value: 0.9803921568627452. Current best value is 0.9865196078431372 with parameters: {'classifier': 'SVC', 'svc_c': 1.887947872892547}.\n",
      "[I 2020-01-22 08:41:35,691] Finished trial#73 resulted in value: 0.9673202614379085. Current best value is 0.9865196078431372 with parameters: {'classifier': 'SVC', 'svc_c': 1.887947872892547}.\n",
      "[I 2020-01-22 08:41:42,309] Finished trial#74 resulted in value: 0.9738562091503268. Current best value is 0.9865196078431372 with parameters: {'classifier': 'SVC', 'svc_c': 1.887947872892547}.\n",
      "[I 2020-01-22 08:41:48,858] Finished trial#75 resulted in value: 0.9407679738562091. Current best value is 0.9865196078431372 with parameters: {'classifier': 'SVC', 'svc_c': 1.887947872892547}.\n",
      "[I 2020-01-22 08:41:56,094] Finished trial#76 resulted in value: 0.9803921568627452. Current best value is 0.9865196078431372 with parameters: {'classifier': 'SVC', 'svc_c': 1.887947872892547}.\n",
      "[I 2020-01-22 08:42:02,782] Finished trial#77 resulted in value: 0.9734477124183006. Current best value is 0.9865196078431372 with parameters: {'classifier': 'SVC', 'svc_c': 1.887947872892547}.\n"
     ]
    },
    {
     "name": "stderr",
     "output_type": "stream",
     "text": [
      "[I 2020-01-22 08:42:09,961] Finished trial#78 resulted in value: 0.9669117647058824. Current best value is 0.9865196078431372 with parameters: {'classifier': 'SVC', 'svc_c': 1.887947872892547}.\n",
      "[I 2020-01-22 08:42:17,946] Finished trial#79 resulted in value: 0.9538398692810457. Current best value is 0.9865196078431372 with parameters: {'classifier': 'SVC', 'svc_c': 1.887947872892547}.\n",
      "[I 2020-01-22 08:42:27,200] Finished trial#80 resulted in value: 0.9399509803921569. Current best value is 0.9865196078431372 with parameters: {'classifier': 'SVC', 'svc_c': 1.887947872892547}.\n",
      "[I 2020-01-22 08:42:33,688] Finished trial#81 resulted in value: 0.9342320261437909. Current best value is 0.9865196078431372 with parameters: {'classifier': 'SVC', 'svc_c': 1.887947872892547}.\n",
      "[I 2020-01-22 08:42:41,139] Finished trial#82 resulted in value: 0.9673202614379085. Current best value is 0.9865196078431372 with parameters: {'classifier': 'SVC', 'svc_c': 1.887947872892547}.\n",
      "[I 2020-01-22 08:42:48,052] Finished trial#83 resulted in value: 0.9342320261437909. Current best value is 0.9865196078431372 with parameters: {'classifier': 'SVC', 'svc_c': 1.887947872892547}.\n",
      "[I 2020-01-22 08:42:54,852] Finished trial#84 resulted in value: 0.9803921568627452. Current best value is 0.9865196078431372 with parameters: {'classifier': 'SVC', 'svc_c': 1.887947872892547}.\n",
      "[I 2020-01-22 08:43:02,298] Finished trial#85 resulted in value: 0.9803921568627452. Current best value is 0.9865196078431372 with parameters: {'classifier': 'SVC', 'svc_c': 1.887947872892547}.\n",
      "[I 2020-01-22 08:43:08,785] Finished trial#86 resulted in value: 0.9607843137254902. Current best value is 0.9865196078431372 with parameters: {'classifier': 'SVC', 'svc_c': 1.887947872892547}.\n",
      "[I 2020-01-22 08:43:17,953] Finished trial#87 resulted in value: 0.9734477124183006. Current best value is 0.9865196078431372 with parameters: {'classifier': 'SVC', 'svc_c': 1.887947872892547}.\n",
      "[I 2020-01-22 08:43:25,306] Finished trial#88 resulted in value: 0.9673202614379085. Current best value is 0.9865196078431372 with parameters: {'classifier': 'SVC', 'svc_c': 1.887947872892547}.\n",
      "[I 2020-01-22 08:43:32,237] Finished trial#89 resulted in value: 0.9799836601307189. Current best value is 0.9865196078431372 with parameters: {'classifier': 'SVC', 'svc_c': 1.887947872892547}.\n",
      "[I 2020-01-22 08:43:39,079] Finished trial#90 resulted in value: 0.9342320261437909. Current best value is 0.9865196078431372 with parameters: {'classifier': 'SVC', 'svc_c': 1.887947872892547}.\n",
      "[I 2020-01-22 08:43:45,902] Finished trial#91 resulted in value: 0.9673202614379085. Current best value is 0.9865196078431372 with parameters: {'classifier': 'SVC', 'svc_c': 1.887947872892547}.\n",
      "[I 2020-01-22 08:43:52,381] Finished trial#92 resulted in value: 0.9669117647058824. Current best value is 0.9865196078431372 with parameters: {'classifier': 'SVC', 'svc_c': 1.887947872892547}.\n",
      "[I 2020-01-22 08:43:59,001] Finished trial#93 resulted in value: 0.9734477124183006. Current best value is 0.9865196078431372 with parameters: {'classifier': 'SVC', 'svc_c': 1.887947872892547}.\n",
      "[I 2020-01-22 08:44:05,468] Finished trial#94 resulted in value: 0.9803921568627452. Current best value is 0.9865196078431372 with parameters: {'classifier': 'SVC', 'svc_c': 1.887947872892547}.\n",
      "[I 2020-01-22 08:44:11,942] Finished trial#95 resulted in value: 0.9865196078431372. Current best value is 0.9865196078431372 with parameters: {'classifier': 'SVC', 'svc_c': 1.887947872892547}.\n",
      "[I 2020-01-22 08:44:18,796] Finished trial#96 resulted in value: 0.9399509803921569. Current best value is 0.9865196078431372 with parameters: {'classifier': 'SVC', 'svc_c': 1.887947872892547}.\n",
      "[I 2020-01-22 08:44:25,378] Finished trial#97 resulted in value: 0.9342320261437909. Current best value is 0.9865196078431372 with parameters: {'classifier': 'SVC', 'svc_c': 1.887947872892547}.\n",
      "[I 2020-01-22 08:44:31,923] Finished trial#98 resulted in value: 0.9669117647058824. Current best value is 0.9865196078431372 with parameters: {'classifier': 'SVC', 'svc_c': 1.887947872892547}.\n",
      "[I 2020-01-22 08:44:38,367] Finished trial#99 resulted in value: 0.9399509803921569. Current best value is 0.9865196078431372 with parameters: {'classifier': 'SVC', 'svc_c': 1.887947872892547}.\n"
     ]
    },
    {
     "name": "stdout",
     "output_type": "stream",
     "text": [
      "Accuracy: 0.9865196078431372\n",
      "Best hyperparameters: {'classifier': 'SVC', 'svc_c': 1.887947872892547}\n"
     ]
    }
   ],
   "source": [
    "from sklearn.svm import SVC\n",
    "\n",
    "def objective(trial):\n",
    "    iris = sklearn.datasets.load_iris()\n",
    "\n",
    "    classifier = trial.suggest_categorical('classifier', ['RandomForest', 'SVC'])\n",
    "    \n",
    "    if classifier == 'RandomForest':\n",
    "        n_estimators = trial.suggest_int('n_estimators', 2, 20)\n",
    "        max_depth = int(trial.suggest_loguniform('max_depth', 1, 32))\n",
    "\n",
    "        clf = RandomForestClassifier(\n",
    "            n_estimators=n_estimators, max_depth=max_depth)\n",
    "    else:\n",
    "        c = trial.suggest_loguniform('svc_c', 1e-10, 1e10)\n",
    "        \n",
    "        clf = SVC(C=c, gamma='auto')\n",
    "\n",
    "    return cross_val_score(\n",
    "        clf, iris.data, iris.target, n_jobs=-1, cv=3).mean()\n",
    "\n",
    "study = optuna.create_study(direction='maximize')\n",
    "study.optimize(objective, n_trials=100)\n",
    "\n",
    "trial = study.best_trial\n",
    "\n",
    "print('Accuracy: {}'.format(trial.value))\n",
    "print(\"Best hyperparameters: {}\".format(trial.params))"
   ]
  },
  {
   "cell_type": "code",
   "execution_count": null,
   "metadata": {},
   "outputs": [],
   "source": []
  }
 ],
 "metadata": {
  "kernelspec": {
   "display_name": "Python 3",
   "language": "python",
   "name": "python3"
  },
  "language_info": {
   "codemirror_mode": {
    "name": "ipython",
    "version": 3
   },
   "file_extension": ".py",
   "mimetype": "text/x-python",
   "name": "python",
   "nbconvert_exporter": "python",
   "pygments_lexer": "ipython3",
   "version": "3.7.0"
  }
 },
 "nbformat": 4,
 "nbformat_minor": 2
}
